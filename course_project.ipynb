{
  "nbformat": 4,
  "nbformat_minor": 0,
  "metadata": {
    "colab": {
      "name": "course_project.ipynb",
      "provenance": []
    },
    "kernelspec": {
      "name": "python3",
      "display_name": "Python 3"
    }
  },
  "cells": [
    {
      "cell_type": "code",
      "metadata": {
        "id": "qo9jdRD9DCw9"
      },
      "source": [
        "import torch\n",
        "import torch.nn as nn\n",
        "import torchvision\n",
        "from torchvision import models\n",
        "import torchvision.transforms as transforms\n",
        "import torch.optim as optim\n",
        "from torch.utils.data import DataLoader\n",
        "from torch.utils.data import sampler"
      ],
      "execution_count": null,
      "outputs": []
    },
    {
      "cell_type": "code",
      "metadata": {
        "id": "E0x9oravIdyl"
      },
      "source": [
        "device = torch.device('cuda:0' if torch.cuda.is_available() else 'cpu')\n",
        "\n",
        "# hyper parameters\n",
        "num_epochs = 5\n",
        "num_classes = 10\n",
        "batch_size = 100\n",
        "learning_rate = 0.001"
      ],
      "execution_count": null,
      "outputs": []
    },
    {
      "cell_type": "code",
      "metadata": {
        "id": "JB0oEWHALCIU"
      },
      "source": [
        "# MNIST dataset\n",
        "train_dataset = torchvision.datasets.MNIST(root='./data',\n",
        "                                           train=True,\n",
        "                                           transform=transforms.ToTensor(),\n",
        "                                           download=True)\n",
        "test_dataset = torchvision.datasets.MNIST(root='./data',\n",
        "                                          train=False,\n",
        "                                          transform=transforms.ToTensor())\n",
        "\n",
        "# data loader\n",
        "train_loader = torch.utils.data.DataLoader(dataset=train_dataset,\n",
        "                                           batch_size=batch_size,\n",
        "                                           shuffle=True)\n",
        "test_loader = torch.utils.data.DataLoader(dataset=test_dataset,\n",
        "                                          batch_size=batch_size,\n",
        "                                          shuffle=False)"
      ],
      "execution_count": null,
      "outputs": []
    },
    {
      "cell_type": "code",
      "metadata": {
        "id": "SVwJhWlEDHvy"
      },
      "source": [
        "class ConvNet(nn.Module):\n",
        "    def __init__(self, num_classes=10):\n",
        "        super(ConvNet, self).__init__()\n",
        "        self.layer1 = nn.Sequential(\n",
        "            nn.Conv2d(1, 16, kernel_size=5, stride=1, padding=2),\n",
        "            nn.BatchNorm2d(16),\n",
        "            nn.ReLU(),\n",
        "            nn.MaxPool2d(kernel_size=2, stride=2))\n",
        "        self.layer2 = nn.Sequential(\n",
        "            nn.Conv2d(16, 32, kernel_size=5, stride=1, padding=2),\n",
        "            nn.BatchNorm2d(32),\n",
        "            nn.ReLU(),\n",
        "            nn.MaxPool2d(kernel_size=2, stride=2))\n",
        "        self.fc = nn.Linear(7*7*32, num_classes)\n",
        "\n",
        "    def forward(self, x):\n",
        "        out = self.layer1(x)\n",
        "        out = self.layer2(out)\n",
        "        # note: reshape right before the first fc layer\n",
        "        # size(0) is the number of elements in the tensor, example:\n",
        "            # a = torch.tensor([2, 3, 4, 5])\n",
        "            # print(a.size(0)) # 4\n",
        "        out = out.reshape(out.size(0), -1)\n",
        "        out = self.fc(out)\n",
        "        return out\n",
        "\n",
        "model = ConvNet(num_classes).to(device)\n"
      ],
      "execution_count": null,
      "outputs": []
    },
    {
      "cell_type": "code",
      "metadata": {
        "id": "WHYXF_jYRiDp"
      },
      "source": [
        "# Define loss function and optimizer\n",
        "criterion = nn.CrossEntropyLoss()\n",
        "optimizer = torch.optim.Adam(model.parameters(), lr=learning_rate)"
      ],
      "execution_count": null,
      "outputs": []
    },
    {
      "cell_type": "code",
      "metadata": {
        "id": "GODrnXWmRvvW",
        "outputId": "463bfd93-a5b3-4f7e-d27a-6074678d47a3",
        "colab": {
          "base_uri": "https://localhost:8080/"
        }
      },
      "source": [
        "train_step = len(train_loader) # total number of `i`\n",
        "\n",
        "for epoch in range(num_epochs): # repeat the entire training `num_epochs` times\n",
        "    # for each training sample\n",
        "    for i, (images, labels) in enumerate(train_loader):\n",
        "        # move to gpu if available\n",
        "        images = images.to(device)\n",
        "        labels = labels.to(device)\n",
        "        # forward pass\n",
        "        outputs = model(images)\n",
        "        loss = criterion(outputs, labels) # still a tensor so we need to use .item() when printing\n",
        "        # backward\n",
        "        optimizer.zero_grad()\n",
        "        loss.backward()\n",
        "        optimizer.step()\n",
        "        # print\n",
        "        if (i+1) % 100 == 0:\n",
        "            print('Epoch: [{}/{}], Step[{}/{}], Loss:{:.4f}' \\\n",
        "                  .format(epoch+1, num_epochs, i+1, train_step, loss.item()))"
      ],
      "execution_count": null,
      "outputs": [
        {
          "output_type": "stream",
          "text": [
            "Epoch: [1/5], Step[100/600], Loss:0.0577\n",
            "Epoch: [1/5], Step[200/600], Loss:0.1153\n",
            "Epoch: [1/5], Step[300/600], Loss:0.0186\n",
            "Epoch: [1/5], Step[400/600], Loss:0.0479\n",
            "Epoch: [1/5], Step[500/600], Loss:0.0494\n",
            "Epoch: [1/5], Step[600/600], Loss:0.0469\n",
            "Epoch: [2/5], Step[100/600], Loss:0.1550\n",
            "Epoch: [2/5], Step[200/600], Loss:0.0583\n",
            "Epoch: [2/5], Step[300/600], Loss:0.0502\n",
            "Epoch: [2/5], Step[400/600], Loss:0.0245\n",
            "Epoch: [2/5], Step[500/600], Loss:0.0266\n",
            "Epoch: [2/5], Step[600/600], Loss:0.0157\n",
            "Epoch: [3/5], Step[100/600], Loss:0.1141\n",
            "Epoch: [3/5], Step[200/600], Loss:0.0086\n",
            "Epoch: [3/5], Step[300/600], Loss:0.0052\n",
            "Epoch: [3/5], Step[400/600], Loss:0.1372\n",
            "Epoch: [3/5], Step[500/600], Loss:0.0143\n",
            "Epoch: [3/5], Step[600/600], Loss:0.0237\n",
            "Epoch: [4/5], Step[100/600], Loss:0.0102\n",
            "Epoch: [4/5], Step[200/600], Loss:0.0375\n",
            "Epoch: [4/5], Step[300/600], Loss:0.0612\n",
            "Epoch: [4/5], Step[400/600], Loss:0.0102\n",
            "Epoch: [4/5], Step[500/600], Loss:0.2241\n",
            "Epoch: [4/5], Step[600/600], Loss:0.0215\n",
            "Epoch: [5/5], Step[100/600], Loss:0.0367\n",
            "Epoch: [5/5], Step[200/600], Loss:0.0051\n",
            "Epoch: [5/5], Step[300/600], Loss:0.0158\n",
            "Epoch: [5/5], Step[400/600], Loss:0.0152\n",
            "Epoch: [5/5], Step[500/600], Loss:0.0037\n",
            "Epoch: [5/5], Step[600/600], Loss:0.0005\n"
          ],
          "name": "stdout"
        }
      ]
    },
    {
      "cell_type": "code",
      "metadata": {
        "id": "PWveV9XKTrIT",
        "outputId": "f3fbac11-eb30-4240-ade0-edc601b25c9e",
        "colab": {
          "base_uri": "https://localhost:8080/"
        }
      },
      "source": [
        "# Test set\n",
        "model.eval() # BatchNorm uses moving mean/variance instead of mini-batch mean/variance\n",
        "\n",
        "with torch.no_grad():\n",
        "    # initialize the stats\n",
        "    correct = 0\n",
        "    total = 0\n",
        "    # pass through testing data once\n",
        "    for images, labels in test_loader:\n",
        "        # again move to device first\n",
        "        images = images.to(device)\n",
        "        labels = labels.to(device)\n",
        "        # forward once\n",
        "        outputs = model(images)\n",
        "        # instead of calculating loss we will get predictions\n",
        "        # it's essetially outputs just reformatting imo\n",
        "        _, predicted = torch.max(outputs.data, 1)\n",
        "        # accumulate stats\n",
        "        total += labels.size(0) # yeah again, number of elements in the tensor\n",
        "        correct += (labels == predicted).sum().item() \n",
        "\n",
        "    # print\n",
        "    print('Test accuracy on 10000 test images: {}%' \\\n",
        "            .format(100 * correct / total))\n",
        "\n",
        "# save model checkpoint\n",
        "torch.save(model.state_dict(), 'cnn.ckpt')"
      ],
      "execution_count": null,
      "outputs": [
        {
          "output_type": "stream",
          "text": [
            "Test accuracy on 10000 test images: 98.84%\n"
          ],
          "name": "stdout"
        }
      ]
    },
    {
      "cell_type": "code",
      "metadata": {
        "id": "FhipXyD2T7zi"
      },
      "source": [
        ""
      ],
      "execution_count": null,
      "outputs": []
    }
  ]
}
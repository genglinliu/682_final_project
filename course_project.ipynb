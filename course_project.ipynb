{
 "cells": [
  {
   "cell_type": "code",
   "execution_count": 1,
   "metadata": {
    "id": "qo9jdRD9DCw9"
   },
   "outputs": [],
   "source": [
    "import torch\n",
    "import torch.nn as nn\n",
    "import torchvision\n",
    "from torchvision import models\n",
    "import torchvision.transforms as transforms\n",
    "import torch.optim as optim\n",
    "from torch.utils.data import DataLoader\n",
    "from torch.utils.data import sampler"
   ]
  },
  {
   "cell_type": "code",
   "execution_count": 2,
   "metadata": {
    "id": "E0x9oravIdyl"
   },
   "outputs": [],
   "source": [
    "device = torch.device('cuda:0' if torch.cuda.is_available() else 'cpu')\n",
    "\n",
    "# hyper parameters\n",
    "num_epochs = 3\n",
    "num_classes = 10\n",
    "batch_size = 100\n",
    "learning_rate = 0.001"
   ]
  },
  {
   "cell_type": "code",
   "execution_count": 3,
   "metadata": {
    "id": "JB0oEWHALCIU"
   },
   "outputs": [],
   "source": [
    "# MNIST dataset\n",
    "train_dataset = torchvision.datasets.MNIST(root='./data',\n",
    "                                           train=True,\n",
    "                                           transform=transforms.ToTensor(),\n",
    "                                           download=True)\n",
    "test_dataset = torchvision.datasets.MNIST(root='./data',\n",
    "                                          train=False,\n",
    "                                          transform=transforms.ToTensor())\n",
    "\n",
    "# data loader\n",
    "train_loader = torch.utils.data.DataLoader(dataset=train_dataset,\n",
    "                                           batch_size=batch_size,\n",
    "                                           shuffle=True)\n",
    "test_loader = torch.utils.data.DataLoader(dataset=test_dataset,\n",
    "                                          batch_size=batch_size,\n",
    "                                          shuffle=False)"
   ]
  },
  {
   "cell_type": "code",
   "execution_count": 4,
   "metadata": {
    "id": "SVwJhWlEDHvy"
   },
   "outputs": [],
   "source": [
    "class ConvNet(nn.Module):\n",
    "    def __init__(self, num_classes=10):\n",
    "        super(ConvNet, self).__init__()\n",
    "        self.layer1 = nn.Sequential(\n",
    "            nn.Conv2d(1, 16, kernel_size=5, stride=1, padding=2),\n",
    "            nn.BatchNorm2d(16),\n",
    "            nn.ReLU(),\n",
    "            nn.MaxPool2d(kernel_size=2, stride=2))\n",
    "        self.layer2 = nn.Sequential(\n",
    "            nn.Conv2d(16, 32, kernel_size=5, stride=1, padding=2),\n",
    "            nn.BatchNorm2d(32),\n",
    "            nn.ReLU(),\n",
    "            nn.MaxPool2d(kernel_size=2, stride=2))\n",
    "        self.fc = nn.Linear(7*7*32, num_classes)\n",
    "\n",
    "    def forward(self, x):\n",
    "        out = self.layer1(x)\n",
    "        out = self.layer2(out)\n",
    "        # note: reshape right before the first fc layer\n",
    "        # size(0) is the number of elements in the tensor, example:\n",
    "            # a = torch.tensor([2, 3, 4, 5])\n",
    "            # print(a.size(0)) # 4\n",
    "        out = out.reshape(out.size(0), -1)\n",
    "        out = self.fc(out)\n",
    "        return out\n",
    "\n",
    "model = ConvNet(num_classes).to(device)\n"
   ]
  },
  {
   "cell_type": "code",
   "execution_count": 5,
   "metadata": {
    "id": "WHYXF_jYRiDp"
   },
   "outputs": [],
   "source": [
    "# Define loss function and optimizer\n",
    "criterion = nn.CrossEntropyLoss()\n",
    "optimizer = torch.optim.Adam(model.parameters(), lr=learning_rate)"
   ]
  },
  {
   "cell_type": "code",
   "execution_count": 6,
   "metadata": {
    "colab": {
     "base_uri": "https://localhost:8080/"
    },
    "id": "GODrnXWmRvvW",
    "outputId": "463bfd93-a5b3-4f7e-d27a-6074678d47a3"
   },
   "outputs": [
    {
     "name": "stdout",
     "output_type": "stream",
     "text": [
      "Epoch: [1/3], Step[100/600], Loss:0.2692\n",
      "Epoch: [1/3], Step[200/600], Loss:0.1120\n",
      "Epoch: [1/3], Step[300/600], Loss:0.0802\n",
      "Epoch: [1/3], Step[400/600], Loss:0.0648\n",
      "Epoch: [1/3], Step[500/600], Loss:0.0901\n",
      "Epoch: [1/3], Step[600/600], Loss:0.0817\n",
      "Epoch: [2/3], Step[100/600], Loss:0.0724\n",
      "Epoch: [2/3], Step[200/600], Loss:0.0757\n",
      "Epoch: [2/3], Step[300/600], Loss:0.0043\n",
      "Epoch: [2/3], Step[400/600], Loss:0.0388\n",
      "Epoch: [2/3], Step[500/600], Loss:0.0081\n",
      "Epoch: [2/3], Step[600/600], Loss:0.0121\n",
      "Epoch: [3/3], Step[100/600], Loss:0.0370\n",
      "Epoch: [3/3], Step[200/600], Loss:0.0249\n",
      "Epoch: [3/3], Step[300/600], Loss:0.0372\n",
      "Epoch: [3/3], Step[400/600], Loss:0.0261\n",
      "Epoch: [3/3], Step[500/600], Loss:0.0369\n",
      "Epoch: [3/3], Step[600/600], Loss:0.0828\n"
     ]
    }
   ],
   "source": [
    "train_step = len(train_loader) # total number of `i`\n",
    "\n",
    "for epoch in range(num_epochs): # repeat the entire training `num_epochs` times\n",
    "    # for each training sample\n",
    "    for i, (images, labels) in enumerate(train_loader):\n",
    "        # move to gpu if available\n",
    "        images = images.to(device)\n",
    "        labels = labels.to(device)\n",
    "        # forward pass\n",
    "        outputs = model(images)\n",
    "        loss = criterion(outputs, labels) # still a tensor so we need to use .item() when printing\n",
    "        # backward\n",
    "        optimizer.zero_grad()\n",
    "        loss.backward()\n",
    "        optimizer.step()\n",
    "        # print\n",
    "        if (i+1) % 100 == 0:\n",
    "            print('Epoch: [{}/{}], Step[{}/{}], Loss:{:.4f}' \\\n",
    "                  .format(epoch+1, num_epochs, i+1, train_step, loss.item()))"
   ]
  },
  {
   "cell_type": "code",
   "execution_count": 7,
   "metadata": {
    "colab": {
     "base_uri": "https://localhost:8080/"
    },
    "id": "PWveV9XKTrIT",
    "outputId": "f3fbac11-eb30-4240-ade0-edc601b25c9e"
   },
   "outputs": [
    {
     "name": "stdout",
     "output_type": "stream",
     "text": [
      "Test accuracy on 10000 test images: 98.89%\n"
     ]
    }
   ],
   "source": [
    "# Test set\n",
    "model.eval() # BatchNorm uses moving mean/variance instead of mini-batch mean/variance\n",
    "\n",
    "with torch.no_grad():\n",
    "    # initialize the stats\n",
    "    correct = 0\n",
    "    total = 0\n",
    "    # pass through testing data once\n",
    "    for images, labels in test_loader:\n",
    "        # again move to device first\n",
    "        images = images.to(device)\n",
    "        labels = labels.to(device)\n",
    "        # forward once\n",
    "        outputs = model(images)\n",
    "        # instead of calculating loss we will get predictions\n",
    "        # it's essetially outputs just reformatting imo\n",
    "        _, predicted = torch.max(outputs.data, 1)\n",
    "        # accumulate stats\n",
    "        total += labels.size(0) # yeah again, number of elements in the tensor\n",
    "        correct += (labels == predicted).sum().item() \n",
    "\n",
    "    # print\n",
    "    print('Test accuracy on 10000 test images: {}%' \\\n",
    "            .format(100 * correct / total))\n",
    "\n",
    "# save model checkpoint\n",
    "torch.save(model.state_dict(), 'cnn.ckpt')"
   ]
  },
  {
   "cell_type": "code",
   "execution_count": 9,
   "metadata": {
    "id": "FhipXyD2T7zi"
   },
   "outputs": [
    {
     "data": {
      "image/png": "[encoded data removed]",
      "text/plain": [
       "<Figure size 432x288 with 9 Axes>"
      ]
     },
     "metadata": {
      "needs_background": "light"
     },
     "output_type": "display_data"
    }
   ],
   "source": [
    "\"\"\"\"\"\n",
    "display some of the raw mnist data\n",
    "\"\"\"\"\"\n",
    "\n",
    "\n",
    "import matplotlib.pyplot as plt\n",
    "#for a 100 image mini batch\n",
    "for i, (images, labels) in enumerate(train_loader):\n",
    "    #just do the first x batches\n",
    "    if(i > 0):\n",
    "        break\n",
    "    #prepare and load images\n",
    "    images = images.to(device)\n",
    "    labels = labels.to(device)    \n",
    "    \n",
    "    #for the first image in each batch\n",
    "    for j in range(9):#images.shape[0]):\n",
    "        # define subplot\n",
    "        plt.subplot(330 + 1 + j)\n",
    "        # plot raw pixel data\n",
    "        batch_img = images[j]\n",
    "        plt.imshow(batch_img[0], cmap=plt.get_cmap('gray'))\n",
    "    # show the figure\n",
    "    plt.show()"
   ]
  },
  {
   "cell_type": "code",
   "execution_count": 13,
   "metadata": {},
   "outputs": [],
   "source": [
    "\"\"\"\"\"\n",
    "create new test sets (and train sets)\n",
    "\"\"\"\"\"\n",
    "\n",
    "import numpy as np\n",
    "\n",
    "#load full test dataset\n",
    "test_loader = torch.utils.data.DataLoader(dataset=test_dataset,\n",
    "                                          batch_size=10000,\n",
    "                                          shuffle=False)\n",
    "\n",
    "image_matrix = np.zeros(shape=(10000,1, 28, 28))\n",
    "labels_matrix = np.zeros(shape=(10000,))\n",
    "noisy_1 = np.zeros(shape=(10000, 1, 28, 28))\n",
    "noisy_2 = np.zeros(shape=(10000, 1, 28, 28))\n",
    "noisy_3 = np.zeros(shape=(10000, 1, 28, 28))\n",
    "noisy_4 = np.zeros(shape=(10000, 1, 28, 28))\n",
    "\n",
    "#for a 100 image mini batch\n",
    "for i, (images, labels) in enumerate(test_loader):\n",
    "    #just do the first x batches\n",
    "    if(i > 2):\n",
    "        break\n",
    "    #prepare and load images\n",
    "    images = images.to(device)\n",
    "    \n",
    "    #for the first image in each batch, or for all of them\n",
    "    for j in range(images.shape[0]):\n",
    "        batch_img = images[j]\n",
    "        \n",
    "        noise_1 = np.random.normal(loc=0.0, scale=0.025, size=batch_img.shape)\n",
    "        noise_2 = np.random.normal(loc=0.0, scale=0.05, size=batch_img.shape)\n",
    "        noise_3 = np.random.normal(loc=0.0, scale=0.1, size=batch_img.shape)\n",
    "        noise_4 = np.random.normal(loc=0.0, scale=0.2, size=batch_img.shape)\n",
    "\n",
    "        batch_img_1 = batch_img + noise_1\n",
    "        batch_img_2 = batch_img + noise_2\n",
    "        batch_img_3 = batch_img + noise_3\n",
    "        batch_img_4 = batch_img + noise_4\n",
    "\n",
    "        labels_matrix[j] = labels[j] \n",
    "        image_matrix[j] = batch_img[0]\n",
    "        noisy_1[j] = batch_img_1\n",
    "        noisy_2[j] = batch_img_2\n",
    "        noisy_3[j] = batch_img_3\n",
    "        noisy_4[j] = batch_img_4"
   ]
  },
  {
   "cell_type": "code",
   "execution_count": 16,
   "metadata": {},
   "outputs": [
    {
     "data": {
      "image/png": "[encoded data removed]",
      "text/plain": [
       "<Figure size 432x288 with 5 Axes>"
      ]
     },
     "metadata": {
      "needs_background": "light"
     },
     "output_type": "display_data"
    },
    {
     "data": {
      "image/png": "[encoded data removed]",
      "text/plain": [
       "<Figure size 432x288 with 5 Axes>"
      ]
     },
     "metadata": {
      "needs_background": "light"
     },
     "output_type": "display_data"
    },
    {
     "data": {
      "image/png": "[encoded data removed]",
      "text/plain": [
       "<Figure size 432x288 with 5 Axes>"
      ]
     },
     "metadata": {
      "needs_background": "light"
     },
     "output_type": "display_data"
    },
    {
     "data": {
      "image/png": "[encoded data removed]",
      "text/plain": [
       "<Figure size 432x288 with 5 Axes>"
      ]
     },
     "metadata": {
      "needs_background": "light"
     },
     "output_type": "display_data"
    }
   ],
   "source": [
    "\"\"\"\"\n",
    "display the data that has been changed and compare to original data\n",
    "\"\"\"\n",
    "\n",
    "\n",
    "for i, (images, labels) in enumerate(test_loader):\n",
    "    images = images.to(device)\n",
    "    \n",
    "    numelems = 4 #use images.shape[0] to get the whole dataset\n",
    "    for j in range(numelems):\n",
    "        batch_img = images[j]\n",
    "        noisy_1_img = noisy_1[j];\n",
    "        noisy_2_img = noisy_2[j];\n",
    "        noisy_3_img = noisy_3[j];\n",
    "        noisy_4_img = noisy_4[j];\n",
    "        \n",
    "        for k in range(5):\n",
    "            if k == 0:\n",
    "                plt.subplot(1,5,k+1)\n",
    "                plt.imshow(batch_img[0], cmap=plt.get_cmap('gray')) \n",
    "            if k == 1:\n",
    "                plt.subplot(1,5,k+1)\n",
    "                plt.imshow(noisy_1_img[0], cmap=plt.get_cmap('gray'))\n",
    "            if k == 2:\n",
    "                plt.subplot(1,5,k+1)\n",
    "                plt.imshow(noisy_2_img[0], cmap=plt.get_cmap('gray'))\n",
    "            if k == 3:\n",
    "                plt.subplot(1,5,k+1)\n",
    "                plt.imshow(noisy_3_img[0], cmap=plt.get_cmap('gray'))\n",
    "            if k == 4:\n",
    "                plt.subplot(1,5,k+1)\n",
    "                plt.imshow(noisy_4_img[0], cmap=plt.get_cmap('gray'))                \n",
    "        plt.savefig('noisy_images.png')\n",
    "        plt.show()\n"
   ]
  },
  {
   "cell_type": "code",
   "execution_count": 15,
   "metadata": {},
   "outputs": [
    {
     "name": "stdout",
     "output_type": "stream",
     "text": [
      "Test accuracy on 10000 test images: 98.89%\n",
      "Test accuracy on 10000 test images: 98.81%\n",
      "Test accuracy on 10000 test images: 98.66%\n",
      "Test accuracy on 10000 test images: 97.53%\n",
      "Test accuracy on 10000 test images: 86.13%\n"
     ]
    },
    {
     "data": {
      "image/png": "[encoded data removed]",
      "text/plain": [
       "<Figure size 432x288 with 1 Axes>"
      ]
     },
     "metadata": {
      "needs_background": "light"
     },
     "output_type": "display_data"
    }
   ],
   "source": [
    "\"\"\"\"\"\n",
    "run the original model on each of these datasets\n",
    "\"\"\"\"\"\n",
    "\n",
    "model.eval() # BatchNorm uses moving mean/variance instead of mini-batch mean/variance\n",
    "\n",
    "no_noise_tensor = torch.Tensor(image_matrix)\n",
    "noisy_test_1_tensor = torch.Tensor(noisy_1)\n",
    "noisy_test_2_tensor = torch.Tensor(noisy_2)\n",
    "noisy_test_3_tensor = torch.Tensor(noisy_3)\n",
    "noisy_test_4_tensor = torch.Tensor(noisy_4)\n",
    "labels_tensor = torch.Tensor(labels_matrix)\n",
    "\n",
    "\n",
    "no_noise_dataset = torch.utils.data.TensorDataset(no_noise_tensor, labels_tensor)\n",
    "noise_0_test_loader = torch.utils.data.DataLoader(dataset=no_noise_dataset,\n",
    "                                          batch_size=batch_size,\n",
    "                                          shuffle=False)\n",
    "noise_1_dataset = torch.utils.data.TensorDataset(noisy_test_1_tensor, labels_tensor)\n",
    "noise_1_test_loader = torch.utils.data.DataLoader(dataset=noise_1_dataset,\n",
    "                                          batch_size=batch_size,\n",
    "                                          shuffle=False)\n",
    "noise_2_dataset = torch.utils.data.TensorDataset(noisy_test_2_tensor, labels_tensor)\n",
    "noise_2_test_loader = torch.utils.data.DataLoader(dataset=noise_2_dataset,\n",
    "                                          batch_size=batch_size,\n",
    "                                          shuffle=False)\n",
    "noise_3_dataset = torch.utils.data.TensorDataset(noisy_test_3_tensor, labels_tensor)\n",
    "noise_3_test_loader = torch.utils.data.DataLoader(dataset=noise_3_dataset,\n",
    "                                          batch_size=batch_size,\n",
    "                                          shuffle=False)\n",
    "noise_4_dataset = torch.utils.data.TensorDataset(noisy_test_4_tensor, labels_tensor)\n",
    "noise_4_test_loader = torch.utils.data.DataLoader(dataset=noise_4_dataset,\n",
    "                                          batch_size=batch_size,\n",
    "                                          shuffle=False)\n",
    "\n",
    "err1 = 0\n",
    "err2 = 0\n",
    "err3 = 0\n",
    "err4 = 0\n",
    "err5 = 0\n",
    "\n",
    "with torch.no_grad():\n",
    "    # initialize the stats\n",
    "    correct = 0\n",
    "    total = 0\n",
    "    # pass through testing data once\n",
    "    for images, labels in noise_0_test_loader:\n",
    "        # again move to device first\n",
    "        images = images.to(device)\n",
    "        labels = labels.to(device)\n",
    "        # forward once\n",
    "        outputs = model(images)\n",
    "        # instead of calculating loss we will get predictions\n",
    "        # it's essetially outputs just reformatting imo\n",
    "        _, predicted = torch.max(outputs.data, 1)\n",
    "        # accumulate stats\n",
    "        total += labels.size(0) # yeah again, number of elements in the tensor\n",
    "        correct += (labels == predicted).sum().item() \n",
    "\n",
    "    # print\n",
    "    print('Test accuracy on 10000 test images: {}%' \\\n",
    "            .format(100 * correct / total))\n",
    "    err1 = 100 * correct / total\n",
    "\n",
    "with torch.no_grad():\n",
    "    # initialize the stats\n",
    "    correct = 0\n",
    "    total = 0\n",
    "    # pass through testing data once\n",
    "    for images, labels in noise_1_test_loader:\n",
    "        # again move to device first\n",
    "        images = images.to(device)\n",
    "        labels = labels.to(device)\n",
    "        # forward once\n",
    "        outputs = model(images)\n",
    "        # instead of calculating loss we will get predictions\n",
    "        # it's essetially outputs just reformatting imo\n",
    "        _, predicted = torch.max(outputs.data, 1)\n",
    "        # accumulate stats\n",
    "        total += labels.size(0) # yeah again, number of elements in the tensor\n",
    "        correct += (labels == predicted).sum().item() \n",
    "\n",
    "    # print\n",
    "    print('Test accuracy on 10000 test images: {}%' \\\n",
    "            .format(100 * correct / total))\n",
    "    err2 = 100 * correct / total\n",
    "\n",
    "with torch.no_grad():\n",
    "    # initialize the stats\n",
    "    correct = 0\n",
    "    total = 0\n",
    "    # pass through testing data once\n",
    "    for images, labels in noise_2_test_loader:\n",
    "        # again move to device first\n",
    "        images = images.to(device)\n",
    "        labels = labels.to(device)\n",
    "        # forward once\n",
    "        outputs = model(images)\n",
    "        # instead of calculating loss we will get predictions\n",
    "        # it's essetially outputs just reformatting imo\n",
    "        _, predicted = torch.max(outputs.data, 1)\n",
    "        # accumulate stats\n",
    "        total += labels.size(0) # yeah again, number of elements in the tensor\n",
    "        correct += (labels == predicted).sum().item() \n",
    "\n",
    "    # print\n",
    "    print('Test accuracy on 10000 test images: {}%' \\\n",
    "            .format(100 * correct / total))\n",
    "    err3 = 100 * correct / total\n",
    "\n",
    "\n",
    "with torch.no_grad():\n",
    "    # initialize the stats\n",
    "    correct = 0\n",
    "    total = 0\n",
    "    # pass through testing data once\n",
    "    for images, labels in noise_3_test_loader:\n",
    "        # again move to device first\n",
    "        images = images.to(device)\n",
    "        labels = labels.to(device)\n",
    "        # forward once\n",
    "        outputs = model(images)\n",
    "        # instead of calculating loss we will get predictions\n",
    "        # it's essetially outputs just reformatting imo\n",
    "        _, predicted = torch.max(outputs.data, 1)\n",
    "        # accumulate stats\n",
    "        total += labels.size(0) # yeah again, number of elements in the tensor\n",
    "        correct += (labels == predicted).sum().item() \n",
    "\n",
    "    # print\n",
    "    print('Test accuracy on 10000 test images: {}%' \\\n",
    "            .format(100 * correct / total))    \n",
    "    err4 = 100 * correct / total\n",
    "\n",
    "    \n",
    "with torch.no_grad():\n",
    "    # initialize the stats\n",
    "    correct = 0\n",
    "    total = 0\n",
    "    # pass through testing data once\n",
    "    for images, labels in noise_4_test_loader:\n",
    "        # again move to device first\n",
    "        images = images.to(device)\n",
    "        labels = labels.to(device)\n",
    "        # forward once\n",
    "        outputs = model(images)\n",
    "        # instead of calculating loss we will get predictions\n",
    "        # it's essetially outputs just reformatting imo\n",
    "        _, predicted = torch.max(outputs.data, 1)\n",
    "        # accumulate stats\n",
    "        total += labels.size(0) # yeah again, number of elements in the tensor\n",
    "        correct += (labels == predicted).sum().item() \n",
    "\n",
    "    # print\n",
    "    print('Test accuracy on 10000 test images: {}%' \\\n",
    "            .format(100 * correct / total))    \n",
    "    err5 = 100 * correct / total\n",
    "    \n",
    "# save model checkpoint\n",
    "#torch.save(model.state_dict(), 'cnn.ckpt')\n",
    "\n",
    "plt.plot([0, 0.025, 0.05, 0.1, 0.2], [err1, err2, err3, err4, err5])\n",
    "plt.savefig('noise_accuracy.png')\n"
   ]
  }
 ],
 "metadata": {
  "colab": {
   "name": "course_project.ipynb",
   "provenance": []
  },
  "kernelspec": {
   "display_name": "Python 3",
   "language": "python",
   "name": "python3"
  },
  "language_info": {
   "codemirror_mode": {
    "name": "ipython",
    "version": 3
   },
   "file_extension": ".py",
   "mimetype": "text/x-python",
   "name": "python",
   "nbconvert_exporter": "python",
   "pygments_lexer": "ipython3",
   "version": "3.6.12"
  }
 },
 "nbformat": 4,
 "nbformat_minor": 1
}
